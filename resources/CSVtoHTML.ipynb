{
 "cells": [
  {
   "cell_type": "code",
   "execution_count": 1,
   "id": "28fb17db",
   "metadata": {},
   "outputs": [],
   "source": [
    "# import modules\n",
    "import os\n",
    "import pandas as pd"
   ]
  },
  {
   "cell_type": "code",
   "execution_count": 2,
   "id": "e0633ab7",
   "metadata": {},
   "outputs": [
    {
     "data": {
      "text/html": [
       "<div>\n",
       "<style scoped>\n",
       "    .dataframe tbody tr th:only-of-type {\n",
       "        vertical-align: middle;\n",
       "    }\n",
       "\n",
       "    .dataframe tbody tr th {\n",
       "        vertical-align: top;\n",
       "    }\n",
       "\n",
       "    .dataframe thead th {\n",
       "        text-align: right;\n",
       "    }\n",
       "</style>\n",
       "<table border=\"1\" class=\"dataframe\">\n",
       "  <thead>\n",
       "    <tr style=\"text-align: right;\">\n",
       "      <th></th>\n",
       "      <th>City</th>\n",
       "      <th>Lat</th>\n",
       "      <th>Lng</th>\n",
       "      <th>Max Temp</th>\n",
       "      <th>Humidity</th>\n",
       "      <th>Cloudiness</th>\n",
       "      <th>Wind Speed</th>\n",
       "      <th>Country</th>\n",
       "      <th>Date</th>\n",
       "    </tr>\n",
       "  </thead>\n",
       "  <tbody>\n",
       "    <tr>\n",
       "      <th>0</th>\n",
       "      <td>karaul</td>\n",
       "      <td>70.4692</td>\n",
       "      <td>-68.5914</td>\n",
       "      <td>37.63</td>\n",
       "      <td>100.0</td>\n",
       "      <td>100.0</td>\n",
       "      <td>6.91</td>\n",
       "      <td>CA</td>\n",
       "      <td>1.658972e+09</td>\n",
       "    </tr>\n",
       "    <tr>\n",
       "      <th>1</th>\n",
       "      <td>cagayan de tawi-tawi</td>\n",
       "      <td>22.0752</td>\n",
       "      <td>-159.3190</td>\n",
       "      <td>85.98</td>\n",
       "      <td>64.0</td>\n",
       "      <td>40.0</td>\n",
       "      <td>16.11</td>\n",
       "      <td>US</td>\n",
       "      <td>1.658971e+09</td>\n",
       "    </tr>\n",
       "    <tr>\n",
       "      <th>2</th>\n",
       "      <td>clyde river</td>\n",
       "      <td>60.6745</td>\n",
       "      <td>17.1417</td>\n",
       "      <td>49.37</td>\n",
       "      <td>74.0</td>\n",
       "      <td>11.0</td>\n",
       "      <td>1.01</td>\n",
       "      <td>SE</td>\n",
       "      <td>1.658971e+09</td>\n",
       "    </tr>\n",
       "    <tr>\n",
       "      <th>3</th>\n",
       "      <td>kapaa</td>\n",
       "      <td>-46.1927</td>\n",
       "      <td>168.8643</td>\n",
       "      <td>47.48</td>\n",
       "      <td>99.0</td>\n",
       "      <td>100.0</td>\n",
       "      <td>3.02</td>\n",
       "      <td>NZ</td>\n",
       "      <td>1.658972e+09</td>\n",
       "    </tr>\n",
       "    <tr>\n",
       "      <th>4</th>\n",
       "      <td>gavle</td>\n",
       "      <td>4.9333</td>\n",
       "      <td>-52.3333</td>\n",
       "      <td>76.08</td>\n",
       "      <td>1.0</td>\n",
       "      <td>0.0</td>\n",
       "      <td>0.00</td>\n",
       "      <td>GF</td>\n",
       "      <td>1.658971e+09</td>\n",
       "    </tr>\n",
       "  </tbody>\n",
       "</table>\n",
       "</div>"
      ],
      "text/plain": [
       "                   City      Lat       Lng  Max Temp  Humidity  Cloudiness  \\\n",
       "0                karaul  70.4692  -68.5914     37.63     100.0       100.0   \n",
       "1  cagayan de tawi-tawi  22.0752 -159.3190     85.98      64.0        40.0   \n",
       "2           clyde river  60.6745   17.1417     49.37      74.0        11.0   \n",
       "3                 kapaa -46.1927  168.8643     47.48      99.0       100.0   \n",
       "4                 gavle   4.9333  -52.3333     76.08       1.0         0.0   \n",
       "\n",
       "   Wind Speed Country          Date  \n",
       "0        6.91      CA  1.658972e+09  \n",
       "1       16.11      US  1.658971e+09  \n",
       "2        1.01      SE  1.658971e+09  \n",
       "3        3.02      NZ  1.658972e+09  \n",
       "4        0.00      GF  1.658971e+09  "
      ]
     },
     "execution_count": 2,
     "metadata": {},
     "output_type": "execute_result"
    }
   ],
   "source": [
    "cityData = pd.read_csv('cities_weather.csv')\n",
    "cityData.head()"
   ]
  },
  {
   "cell_type": "code",
   "execution_count": 3,
   "id": "08a34277",
   "metadata": {},
   "outputs": [],
   "source": [
    "cityData.to_html('tableData.html', index=False, classes=['table', 'table-striped', 'table-hover'])"
   ]
  },
  {
   "cell_type": "code",
   "execution_count": null,
   "id": "9049df54",
   "metadata": {},
   "outputs": [],
   "source": []
  }
 ],
 "metadata": {
  "kernelspec": {
   "display_name": "Python 3 (ipykernel)",
   "language": "python",
   "name": "python3"
  },
  "language_info": {
   "codemirror_mode": {
    "name": "ipython",
    "version": 3
   },
   "file_extension": ".py",
   "mimetype": "text/x-python",
   "name": "python",
   "nbconvert_exporter": "python",
   "pygments_lexer": "ipython3",
   "version": "3.9.12"
  }
 },
 "nbformat": 4,
 "nbformat_minor": 5
}
